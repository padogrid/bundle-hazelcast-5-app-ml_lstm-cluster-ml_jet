{
 "cells": [
  {
   "cell_type": "markdown",
   "id": "3a08d769",
   "metadata": {
    "id": "3a08d769"
   },
   "source": [
    "# LSTM Forecast Test on Google Colab\n",
    "\n",
    "This notebook provides instructions and code for running the LSTM bundle on Google Colab.\n",
    "\n",
    "1. Install PadoGrid.\n",
    "1. Install LSTM Bundle.\n",
    "1. Install XTerm for running PadoGrid commands.\n",
    "1. Build the LSTM environment.\n",
    "1. Stat Hazelcast cluster.\n",
    "1. Ingest simulated dat to Hazelcast.\n",
    "1. Forecast using the LSTM module.\n",
    "\n",
    "LSTM Bundle Repo:\n",
    "<https://github.com/padogrid/bundle-hazelcast-5-app-ml_lstm-cluster-ml_jet>"
   ]
  },
  {
   "cell_type": "markdown",
   "id": "c6defbe7",
   "metadata": {
    "id": "c6defbe7"
   },
   "source": [
    "## 1. Install PadoGrid"
   ]
  },
  {
   "cell_type": "markdown",
   "id": "f4211421",
   "metadata": {},
   "source": [
    "Install PadoGrid with Hazelcast-OSS 5.3.8. Higher versions of Hazelcast require Java 17. Colab runs Java 11."
   ]
  },
  {
   "cell_type": "code",
   "execution_count": null,
   "id": "-itlkTb56IDN",
   "metadata": {
    "id": "-itlkTb56IDN"
   },
   "outputs": [],
   "source": [
    "!curl -fsSL https://raw.githubusercontent.com/padogrid/padogrid/develop/padogrid-deployment/src/main/resources/common/bin_sh/install_padogrid | /bin/bash -s -- -no-stty -quiet -product hazelcast-oss -version 5.3.8"
   ]
  },
  {
   "cell_type": "markdown",
   "id": "3X7XQbCjA912",
   "metadata": {
    "id": "3X7XQbCjA912"
   },
   "source": [
    "## 2. Install Maven and LSTM Bundle"
   ]
  },
  {
   "cell_type": "code",
   "execution_count": null,
   "id": "aJpE2WpL6Tbt",
   "metadata": {
    "id": "aJpE2WpL6Tbt"
   },
   "outputs": [],
   "source": [
    "!apt install maven\n",
    "!ln -s /root/Padogrid/workspaces workspaces\n",
    "!. /root/Padogrid/workspaces/myrwe/initenv.sh -quiet \\\n",
    "&& install_bundle -quiet -force -download bundle-hazelcast-5-app-ml_lstm-cluster-ml_jet \\\n",
    "&& padogrid"
   ]
  },
  {
   "cell_type": "markdown",
   "id": "qA3sJcMNBrpe",
   "metadata": {
    "id": "qA3sJcMNBrpe"
   },
   "source": [
    "## 3. Install XTerm Terminal"
   ]
  },
  {
   "cell_type": "code",
   "execution_count": null,
   "id": "GAo57blm9IpH",
   "metadata": {
    "id": "GAo57blm9IpH"
   },
   "outputs": [],
   "source": [
    "!pip install colab-xterm\n",
    "%load_ext colabxterm\n",
    "%xterm"
   ]
  },
  {
   "cell_type": "markdown",
   "id": "48116cc2",
   "metadata": {
    "id": "48116cc2"
   },
   "source": [
    "## 4. Terminal: Build LSTM Environment"
   ]
  },
  {
   "cell_type": "markdown",
   "id": "Xoul_11vB7Gg",
   "metadata": {
    "id": "Xoul_11vB7Gg"
   },
   "source": [
    "From the terminal, build the LSTM environment by executing the following.\n",
    "\n",
    "![Terminal](https://raw.githubusercontent.com/wiki/padogrid/padogrid/images/terminal.png) Terminal\n",
    "\n",
    "```bash\n",
    "# Build LSTM env\n",
    "cd_app ml_lstm\n",
    "pip install -r src/main/python/requirements.txt\n",
    "cd_app ml_lstm/bin_sh\n",
    "./build_app\n",
    "```"
   ]
  },
  {
   "cell_type": "markdown",
   "id": "KFoQK4waGYA-",
   "metadata": {
    "id": "KFoQK4waGYA-"
   },
   "source": [
    "## 5. Terminal: Start Hazelcast Cluster\n",
    "\n",
    "![Terminal](https://raw.githubusercontent.com/wiki/padogrid/padogrid/images/terminal.png) Terminal\n",
    "\n",
    "```bash\n",
    "# Start ml_jet cluster\n",
    "switch_cluster ml_jet\n",
    "add_member -count 2\n",
    "start_cluster\n",
    "```"
   ]
  },
  {
   "cell_type": "markdown",
   "id": "2BFewKg3E0ZE",
   "metadata": {
    "id": "2BFewKg3E0ZE"
   },
   "source": [
    "## 6. Terminal: Ingest Simulated Data to Hazelcast\n",
    "\n",
    "![Terminal](https://raw.githubusercontent.com/wiki/padogrid/padogrid/images/terminal.png) Terminal\n",
    "\n",
    "```bash\n",
    "cd_app simulator/bin_sh\n",
    "./simulator -simulator-config ../etc/simulator-hazelcast.yaml\n",
    "```\n",
    "\n",
    "Print the current PadoGrid workspace path. We will need to include it in the code below.\n",
    "\n",
    "```bash\n",
    "echo $PADOGRID_WORKSPACE\n",
    "```\n",
    "\n",
    "Output:\n",
    "\n",
    "```console\n",
    "/root/Padogrid/workspaces/myrwe/myws\n",
    "```"
   ]
  },
  {
   "cell_type": "markdown",
   "id": "4p37tYeIL7a9",
   "metadata": {
    "id": "4p37tYeIL7a9"
   },
   "source": [
    "## 7. Code: Forecast using LSTM Module"
   ]
  },
  {
   "cell_type": "markdown",
   "id": "Gib9cNGKJV3v",
   "metadata": {
    "id": "Gib9cNGKJV3v"
   },
   "source": [
    "### 7.1. Set `PADOGRID_WORKSPACE`"
   ]
  },
  {
   "cell_type": "code",
   "execution_count": null,
   "id": "sjZNXOK3JS-H",
   "metadata": {
    "id": "sjZNXOK3JS-H"
   },
   "outputs": [],
   "source": [
    "# The workspace path that you obtained from step #6.\n",
    "PADOGRID_WORKSPACE=\"/root/Padogrid/workspaces/myrwe/myws\""
   ]
  },
  {
   "cell_type": "markdown",
   "id": "545a5624",
   "metadata": {
    "id": "545a5624"
   },
   "source": [
    "### 7.2. Initialize Environment"
   ]
  },
  {
   "cell_type": "code",
   "execution_count": null,
   "id": "BHyu6o9fJDd5",
   "metadata": {
    "id": "BHyu6o9fJDd5"
   },
   "outputs": [],
   "source": [
    "import os\n",
    "os.environ[\"PADOGRID_WORKSPACE\"] = PADOGRID_WORKSPACE\n",
    "import sys\n",
    "sys.path.append(PADOGRID_WORKSPACE+\"/apps/ml_lstm/src/main/python\")\n",
    "from padogrid.bundle.hazelcast.dna.hazelcast_lstm_dna import HazelcastLstmDna\n",
    "from padogrid.bundle.hazelcast.data.PortableFactoryImpl import PortableFactoryImpl\n",
    "import hazelcast\n",
    "from matplotlib import pyplot\n",
    "import pandas as pd\n",
    "from sklearn.metrics import r2_score\n",
    "\n",
    "def plot_forecasts(train_time_list, train_data_list, time_list, test_data_list, forecasts, time_type=\"date\", time_delta=\"1 day\"):\n",
    "    '''\n",
    "    Plots the specified train and test datasets in addition to the specified forecasts.\n",
    "    '''\n",
    "\n",
    "    # Label and plot\n",
    "    fig, ax = pyplot.subplots(1, figsize=(14, 8))\n",
    "    fig.suptitle(feature + \" LSTM Test Data Validation\")\n",
    "    ax.set(xlabel='Time', ylabel='Value')\n",
    "\n",
    "    # Plot the entire train data in blue\n",
    "    ax.plot(train_time_list, train_data_list, color='blue', label=\"Train\")\n",
    "\n",
    "    # Plot the entire test data in black. We need to add the last value\n",
    "    # in the train data list as the first value in the test data list\n",
    "    # so that we can plot the test data starting from that value.\n",
    "    test_time_list = pd.to_datetime(train_time_list[-1:]).append(time_list)\n",
    "    test_data_list2 = train_data_list[-1:] + test_data_list\n",
    "    ax.plot(test_time_list, test_data_list2, color='black', label=\"Test\")\n",
    "\n",
    "    # Get the last values in the train list. It is the staring point for plotting\n",
    "    # the forecasted values.\n",
    "    xvalue = train_time_list[-1]\n",
    "    yvalue = train_data_list[-1]\n",
    "    for i in range(len(forecasts)):\n",
    "        # The last time value is the starting point of this iteration of forecasted values\n",
    "        xaxis = [xvalue]\n",
    "        # Build array with future dates. Increment the time by month.\n",
    "\n",
    "        forecast = forecasts[i]\n",
    "        time_value = xvalue\n",
    "        for j in range(len(forecast)):\n",
    "            if time_type == \"date\":\n",
    "                time_value += pd.Timedelta(time_delta)\n",
    "            else:\n",
    "                year = time_value.year\n",
    "                month = time_value.month\n",
    "                if month % 12 == 0:\n",
    "                    year += 1\n",
    "                    month = 1\n",
    "                else:\n",
    "                    month += 1\n",
    "                time_value = pd.Timestamp(year, month, 1)\n",
    "            xaxis += [time_value]\n",
    "        # insert the last value in the yaxis list. The last value is the starting point\n",
    "        # for this iteration of forecasted values\n",
    "        yaxis = [yvalue] + forecasts[i]\n",
    "        #Plot forecast data in red\n",
    "        ax.plot(xaxis, yaxis, color='red')\n",
    "        xvalue = time_list[i]\n",
    "        yvalue = test_data_list[i]\n",
    "\n",
    "    ax.legend([\"Train\", \"Test\", \"Forecast\"], loc = \"upper left\")\n",
    "    fig.canvas.draw()\n",
    "    fig.canvas.flush_events()"
   ]
  },
  {
   "cell_type": "markdown",
   "id": "8e9f73c9-6ada-48a3-b450-332136e9e932",
   "metadata": {},
   "source": [
    "### 7.3. Connect to Hazelcast"
   ]
  },
  {
   "cell_type": "code",
   "execution_count": null,
   "id": "c6292b26-ba80-4de9-829f-b653d465c21b",
   "metadata": {
    "scrolled": true
   },
   "outputs": [],
   "source": [
    "cluster_name = \"ml_jet\"\n",
    "client = hazelcast.HazelcastClient(cluster_name=cluster_name,\n",
    "                                    cluster_members=[\n",
    "                                            \"localhost:5701\",\n",
    "                                            \"localhost:5702\"\n",
    "                                        ],\n",
    "                                    lifecycle_listeners=[\n",
    "                                        lambda state: print(\"Hazelcast Lifecycle: \", state),\n",
    "                                    ],\n",
    "                                    portable_factories=PortableFactoryImpl.factories())"
   ]
  },
  {
   "cell_type": "markdown",
   "id": "PvcccSl-LvCa",
   "metadata": {
    "id": "PvcccSl-LvCa"
   },
   "source": [
    "### 7.4. User Inputs\n",
    "\n",
    "Place your inputs here. You can repeat Section 7.5 with different inputs."
   ]
  },
  {
   "cell_type": "code",
   "execution_count": null,
   "id": "5LBUw89BLp5l",
   "metadata": {
    "id": "5LBUw89BLp5l"
   },
   "outputs": [],
   "source": [
    "# grid_path: Name of the Hazelcast map that contains the data.\n",
    "grid_path = \"stocks\"\n",
    "# feature: stock1-jitter, stock1-no-jitter, stock1-jitter-large, stock2-jitter, stock2-no-jitter\n",
    "feature = \"stock1-jitter\"\n",
    "# is_generate: False to use the existing model, True to generate a new model\n",
    "is_generate = False\n",
    "# test_data_percentage: Percentage of the dataset to be used as test data\n",
    "test_data_percentage = 0.2\n",
    "# 0 = silent, 1 = progress bar, 2 = one line per epoch.\n",
    "verbose = 0\n",
    "\n",
    "# Try comparing jitter vs no-jitter. With no-jitter, the simulator generates\n",
    "# unaltered equation values which should result in high accuracy of predicted\n",
    "# values.\n",
    "# ------\n",
    "# stock1\n",
    "# ------\n",
    "#feature=\"stock1-jitter\"\n",
    "# R^2=0.92\n",
    "#feature=\"stock1-jitter-large\"\n",
    "#feature=\"stock1-no-jitter\"\n",
    "\n",
    "# ------\n",
    "# stock2\n",
    "# ------\n",
    "#feature=\"stock2-jitter\"\n",
    "#feature=\"stock2-no-jitter\""
   ]
  },
  {
   "cell_type": "markdown",
   "id": "MtYWFWnaLy2O",
   "metadata": {
    "id": "MtYWFWnaLy2O"
   },
   "source": [
    "### 7.5. Forecast"
   ]
  },
  {
   "cell_type": "code",
   "execution_count": null,
   "id": "WLT2mvu4H4xg",
   "metadata": {
    "id": "WLT2mvu4H4xg"
   },
   "outputs": [],
   "source": [
    "if test_data_percentage <= 0 or test_data_percentage >= 1:\n",
    "    print(f'ERROR: Invalid test_data_percentage {test_data_percentage}', file=sys.stderr)\n",
    "    exit(1)\n",
    "\n",
    "use_saved_model = is_generate != True\n",
    "\n",
    "# LSTM network parameters\n",
    "epochs = 100\n",
    "neurons = 1\n",
    "batch_size = 1\n",
    "\n",
    "print()\n",
    "print(\"---------------------------------------\")\n",
    "print(\"                 map: \" + str(grid_path))\n",
    "print(\"             feature: \" + str(feature))\n",
    "print(\"            generate: \" + str(is_generate))\n",
    "print(\"              epochs: \" + str(epochs))\n",
    "print(\"             neurons: \" + str(neurons))\n",
    "print(\"          batch_size: \" + str(batch_size))\n",
    "print(\"test_data_percentage: \" + str(test_data_percentage))\n",
    "print(\"             verbose: \" + str(verbose))\n",
    "print(\"---------------------------------------\")\n",
    "print()\n",
    "\n",
    "# Working directory where the model is saved. By default, it assumes you are running\n",
    "# this program in PadoGrid.\n",
    "workspace_dir = os.environ['PADOGRID_WORKSPACE']\n",
    "if workspace_dir == \"\":\n",
    "    raise Exception(\"ERROR: PADOGRID_WORKSPACE environment var is not set. Aborted.\")\n",
    "working_dir = workspace_dir + \"/apps/ml_lstm\"\n",
    "if os.path.isdir(working_dir) == False:\n",
    "    raise Exception(\"ERROR: working_dir (\" + working_dir + \") does not exist. Aborted.\")\n",
    "\n",
    "# HazelcastLstmDna expects the Hazelcast map to contain JSON objects with the specified\n",
    "# numerical feature (attributes).\n",
    "dna = HazelcastLstmDna(feature, client, working_dir=working_dir, verbose=verbose)\n",
    "\n",
    "# --------------------------------------------------------------------------\n",
    "# Execute locally\n",
    "# --------------------------------------------------------------------------\n",
    "model_name=\"model_\" + feature\n",
    "\n",
    "where_clause = None\n",
    "jresult = dna.run_lstm_local(grid_path, where_clause, time_attribute=\"time\",\n",
    "                            use_saved_model=use_saved_model, model_name=model_name,\n",
    "                            return_train_data=True,\n",
    "                            time_type='date',\n",
    "                            value_key=feature,\n",
    "                            epochs=epochs,\n",
    "                            neurons=neurons,\n",
    "                            batch_size=batch_size,\n",
    "                            test_data_percentage=test_data_percentage)\n",
    "# print(jresult)\n",
    "# --------------------------------------------------------------------------\n",
    "\n",
    "if jresult != None:\n",
    "    expected_list = jresult['Expected']\n",
    "    predicted_list = jresult['Predicted']\n",
    "    time_list = pd.to_datetime(jresult['Time'])\n",
    "\n",
    "    train_data_list = jresult['TrainData']\n",
    "    train_time_list = pd.to_datetime(jresult['TrainTime'])\n",
    "    test_data_list = jresult['TestData']\n",
    "\n",
    "    plot_forecasts(train_time_list, train_data_list, time_list, test_data_list, predicted_list, time_delta=\"1 day\")\n",
    "\n",
    "    if verbose > 0:\n",
    "        print()\n",
    "        print(\"-------------\")\n",
    "        print(\"test_data_list\")\n",
    "        print(\"-------------\")\n",
    "        print(test_data_list)\n",
    "        print()\n",
    "        print(\"--------------\")\n",
    "        print(\"predicted_list\")\n",
    "        print(\"--------------\")\n",
    "        print(predicted_list)\n",
    "\n",
    "    #test_data = expected_list[1:2]\n",
    "\n",
    "    if 'TrainRmse' in jresult:\n",
    "        train_rmse = jresult['TrainRmse']\n",
    "        print('RMSE(train)=%f' % train_rmse)\n",
    "    rmse = jresult['Rmse']\n",
    "    normalized_rmse = jresult['NormalizedRmse']\n",
    "    print()\n",
    "    print(f'RMSE: {rmse}, Normalized RMSE: {normalized_rmse}')\n",
    "    # Coefficient of determination or variance score: 1 is perfect prediction\n",
    "    r2 = r2_score(expected_list, predicted_list)\n",
    "    print('Coefficient of Determination - R^2 score: %.2f' % r2)\n",
    "    print()\n",
    "\n",
    "    ## Display and block\n",
    "    pyplot.gcf().canvas.manager.set_window_title(\"PadoGrid LSTM Model Validation\")\n",
    "    pyplot.show()"
   ]
  },
  {
   "cell_type": "markdown",
   "id": "79e86595-4d20-4fe7-ab2d-dcf3796d07d0",
   "metadata": {},
   "source": [
    "### 7.6. Shutdown Hazelcast Client\n",
    "\n",
    "The following shuts down the Hazelcast client instance. Once shutdown, the forecast section (7.5) will no longer be operational. To make it operational, you must reconnect by running Section 7.3."
   ]
  },
  {
   "cell_type": "code",
   "execution_count": null,
   "id": "48852b2e-d930-414c-a78c-e3389f10c90c",
   "metadata": {},
   "outputs": [],
   "source": [
    "# Shutdown Hazelcast client\n",
    "client.shutdown()"
   ]
  }
 ],
 "metadata": {
  "colab": {
   "provenance": []
  },
  "kernelspec": {
   "display_name": "Python 3 (ipykernel)",
   "language": "python",
   "name": "python3"
  },
  "language_info": {
   "codemirror_mode": {
    "name": "ipython",
    "version": 3
   },
   "file_extension": ".py",
   "mimetype": "text/x-python",
   "name": "python",
   "nbconvert_exporter": "python",
   "pygments_lexer": "ipython3",
   "version": "3.10.12"
  }
 },
 "nbformat": 4,
 "nbformat_minor": 5
}
