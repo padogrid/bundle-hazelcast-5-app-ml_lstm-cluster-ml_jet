{
 "cells": [
  {
   "cell_type": "markdown",
   "id": "o8jEpaM1MS9P",
   "metadata": {
    "id": "o8jEpaM1MS9P"
   },
   "source": [
    "# Real-Time Forecast\n",
    "\n",
    "This notebook has been designed to monitor a single feature at a time in real time. You can change the feature at any time by repeating the [Startup Sequence](#Startup-Squence) section."
   ]
  },
  {
   "cell_type": "markdown",
   "id": "V0LLwO4tPgDH",
   "metadata": {
    "id": "V0LLwO4tPgDH"
   },
   "source": [
    "## Initialize Environment"
   ]
  },
  {
   "cell_type": "code",
   "execution_count": null,
   "id": "2c1dbc3e-6cbc-4164-a957-861b2cc20768",
   "metadata": {
    "id": "jipUtD-YMxPw"
   },
   "outputs": [],
   "source": [
    "import sys\n",
    "import os\n",
    "import datetime\n",
    "import pandas as pd\n",
    "import holoviews as hv\n",
    "from holoviews import opts\n",
    "from holoviews.streams import Buffer\n",
    "import hazelcast\n",
    "from padogrid.bundle.hazelcast.data.PortableFactoryImpl import PortableFactoryImpl\n",
    "\n",
    "# Disable CPU warning message\n",
    "os.environ['TF_CPP_MIN_LOG_LEVEL'] = '2'\n",
    "\n",
    "# Brokeh extension\n",
    "hv.extension('bokeh')\n",
    "\n",
    "# Setup StreamingDataFrame\n",
    "df_observed = pd.DataFrame({'Time': [], 'Observed': []}, columns=['Time', 'Observed'] )\n",
    "dfstream_observed = Buffer(df_observed, length=100, index=False)\n",
    "df_forecast = pd.DataFrame({'Time': [], 'Forecast': []}, columns=['Time', 'Forecast'] )\n",
    "dfstream_forecast = Buffer(df_forecast, length=100, index=False)\n",
    "observed_dmap = hv.DynamicMap(hv.Curve, streams=[dfstream_observed])\n",
    "forecast_dmap = hv.DynamicMap(hv.Curve, streams=[dfstream_forecast])\n",
    "prev_forecast_value = 0\n",
    "\n",
    "def forecast_received(event):\n",
    "    '''\n",
    "    Receives map events from Hazelcast. The events contain ForecastValue objects that are\n",
    "    readily plotted.\n",
    "    '''\n",
    "    global prev_forecast_value\n",
    "    global dfstream_observed, dfstream_forecast\n",
    "\n",
    "    forecast = event.value\n",
    "    #print(\"forecast_received(): previous_forecast=%f, observed=%f, diff=%f\" %\n",
    "    #      (prev_forecast_value, forecast.observedValue, forecast.observedValue - prev_forecast_value))\n",
    "    try:\n",
    "        observed_date = datetime.datetime(*forecast.observedDate[:6]).date()\n",
    "        forecast_date = datetime.datetime(*forecast.forecastDate[:6]).date()\n",
    "    except:\n",
    "        print(\"forecast_received() - Exception: \", sys.exc_info()[0])\n",
    "\n",
    "    df_observed = pd.DataFrame([(observed_date, forecast.observedValue)], columns=['Time', 'Observed'])\n",
    "    df_forecast = pd.DataFrame([(forecast_date, forecast.forecastValue)], columns=['Time', 'Forecast'])\n",
    "    dfstream_observed.send(df_observed)\n",
    "    dfstream_forecast.send(df_forecast)\n",
    "    prev_forecast_value = forecast.forecastValue"
   ]
  },
  {
   "cell_type": "markdown",
   "id": "1f20ac92-b770-4f33-8251-fd30f04ed51e",
   "metadata": {},
   "source": [
    "## Submit Jobs to Hazelcast"
   ]
  },
  {
   "cell_type": "markdown",
   "id": "XwD8SKEePReG",
   "metadata": {
    "id": "XwD8SKEePReG"
   },
   "source": [
    "### Terminal: Submit Job\n",
    "\n",
    "For each simulated dataset, their respective job must be submitted.\n",
    "\n",
    "![Terminal](https://raw.githubusercontent.com/wiki/padogrid/padogrid/images/terminal.png) Terminal\n",
    "\n",
    "```bash\n",
    "# Submit the default feature, \"stock1-jitter\"\n",
    "cd_app ml_lstm\n",
    "hz-cli -t ml_jet@localhost:5701 submit target/ml-lstm-1.0.3.jar\n",
    "```"
   ]
  },
  {
   "cell_type": "markdown",
   "id": "83efe29e-5f4f-4a37-815c-4f985cac9351",
   "metadata": {},
   "source": [
    "#### Complete Job List\n",
    "\n",
    "```bash\n",
    "cd_app ml_lstm\n",
    "hz-cli -t ml_jet@localhost:5701 submit target/ml-lstm-1.0.3.jar -feature stock1-jitter\n",
    "hz-cli -t ml_jet@localhost:5701 submit target/ml-lstm-1.0.3.jar -feature stock1-no-jitter\n",
    "hz-cli -t ml_jet@localhost:5701 submit target/ml-lstm-1.0.3.jar -feature stock1-jitter-large\n",
    "hz-cli -t ml_jet@localhost:5701 submit target/ml-lstm-1.0.3.jar -feature stock2-jitter\n",
    "hz-cli -t ml_jet@localhost:5701 submit target/ml-lstm-1.0.3.jar -feature stock2-no-jitter\n",
    "```"
   ]
  },
  {
   "cell_type": "markdown",
   "id": "Lv0o8ZhnQPm7",
   "metadata": {
    "id": "Lv0o8ZhnQPm7"
   },
   "source": [
    "### Terminal: Stream Data\n",
    "\n",
    "The following publishes datasets for all the jobs listed above.\n",
    "\n",
    "![Terminal](https://raw.githubusercontent.com/wiki/padogrid/padogrid/images/terminal.png) Terminal\n",
    "\n",
    "```bash\n",
    "cd_app simulator/bin_sh\n",
    "./simulator -simulator-config ../etc/simulator-hazelcast-journal.yaml\n",
    "```"
   ]
  },
  {
   "cell_type": "markdown",
   "id": "2e7795d1-a955-4c3e-9147-47657e3be116",
   "metadata": {},
   "source": [
    "## Connect to Hazelcast"
   ]
  },
  {
   "cell_type": "code",
   "execution_count": null,
   "id": "71c920d5-7a1d-46bd-bd76-3d73b125dfea",
   "metadata": {},
   "outputs": [],
   "source": [
    "# Connect to Hazelcast\n",
    "cluster_name = \"ml_jet\"\n",
    "grid_path = \"forecast\"\n",
    "client = hazelcast.HazelcastClient(cluster_name=cluster_name,\n",
    "                                    cluster_members=[\n",
    "                                            \"localhost:5701\",\n",
    "                                            \"localhost:5702\"\n",
    "                                        ],\n",
    "                                    lifecycle_listeners=[\n",
    "                                        lambda state: print(\"Hazelcast Lifecycle: \", state),\n",
    "                                    ],\n",
    "                                    portable_factories=PortableFactoryImpl.factories())\n",
    "listener_id = None"
   ]
  },
  {
   "cell_type": "markdown",
   "id": "BARXwkRpNW3Z",
   "metadata": {
    "id": "BARXwkRpNW3Z"
   },
   "source": [
    "---\n",
    "\n",
    "## Startup Sequence\n",
    "\n",
    "You can monitor a different feature by repeating this section.\n",
    "\n",
    "### 1. User Inputs\n",
    "\n",
    "The `feature` variable below must be set to one of the Hazelcast job features submitted above."
   ]
  },
  {
   "cell_type": "code",
   "execution_count": null,
   "id": "YOI-ZtSLNaPs",
   "metadata": {
    "id": "YOI-ZtSLNaPs"
   },
   "outputs": [],
   "source": [
    "feature = \"stock1-jitter\""
   ]
  },
  {
   "cell_type": "markdown",
   "id": "80646ce6-e435-4c42-8500-99dcb21ba47b",
   "metadata": {},
   "source": [
    "### 2. Register Hazelcast Entry Listener"
   ]
  },
  {
   "cell_type": "code",
   "execution_count": null,
   "id": "22c6445d-a211-4366-ad7d-738d24493b9c",
   "metadata": {},
   "outputs": [],
   "source": [
    "# First, clear dataframe streams\n",
    "dfstream_observed.clear()\n",
    "dfstream_forecast.clear()\n",
    "\n",
    "# Listen on the forecast map for forecasts generated via Jet\n",
    "forecast_map = client.get_map(grid_path)\n",
    "if listener_id != None:\n",
    "    forecast_map.remove_entry_listener(listener_id)\n",
    "listener_id = forecast_map.add_entry_listener(key=feature, include_value=True, added_func=forecast_received, updated_func=forecast_received).result()\n",
    "\n",
    "print(\"--------------------------------------\")\n",
    "print(\"      cluster: %s\" % (cluster_name))\n",
    "print(\"          map: %s\" % (forecast_map.name))\n",
    "print(\"feature (key): %s\" % (feature))\n",
    "print(\"--------------------------------------\")\n",
    "print(\"The streaming chart will not show until the Hazelcast job generates\")\n",
    "print(\"forecasts into the map, '%s'.\" % (forecast_map.name))\n"
   ]
  },
  {
   "cell_type": "markdown",
   "id": "--ENaGYlPmzS",
   "metadata": {
    "id": "--ENaGYlPmzS"
   },
   "source": [
    "### 3. Monitor Forecast"
   ]
  },
  {
   "cell_type": "code",
   "execution_count": null,
   "id": "4DxvuefSNCSI",
   "metadata": {
    "colab": {
     "base_uri": "https://localhost:8080/"
    },
    "id": "4DxvuefSNCSI",
    "outputId": "9431d50f-6bc6-47cc-9f86-97a1319b775f"
   },
   "outputs": [],
   "source": [
    "title = feature + \" \" + \"LSTM Forecast\"\n",
    "(observed_dmap.relabel('Observed') * forecast_dmap.relabel('Forecast')).opts(\n",
    "    opts.Curve(width=800, show_grid=True)\n",
    ").opts(title=title, ylabel='Vaue', legend_position='top_left')"
   ]
  },
  {
   "cell_type": "markdown",
   "id": "436e8829",
   "metadata": {},
   "source": [
    "### 4. Clear DataFrame Streams\n",
    "\n",
    "The following refreshes the streaming chart."
   ]
  },
  {
   "cell_type": "code",
   "execution_count": null,
   "id": "a7da28a1",
   "metadata": {},
   "outputs": [],
   "source": [
    "# Clear dataframe streams\n",
    "dfstream_observed.clear()\n",
    "dfstream_forecast.clear()"
   ]
  },
  {
   "cell_type": "markdown",
   "id": "709ba42e",
   "metadata": {},
   "source": [
    "---\n",
    "\n",
    "## Shutdown Hazelcast Client\n",
    "\n",
    "The following shuts down the Hazelcast client instance. Hence, the streaming chart will stop receiving data. You can create a new instance by repeating the [Connect to Hazelcast](#connect-to-hazelcast) section."
   ]
  },
  {
   "cell_type": "code",
   "execution_count": null,
   "id": "1b6dbac9-c283-411d-bc06-965a4bdcc12f",
   "metadata": {},
   "outputs": [],
   "source": [
    "# Remove Hazelcast entry listener\n",
    "if listener_id != None:\n",
    "    forecast_map.remove_entry_listener(listener_id)\n",
    "listener_id = None\n",
    "\n",
    "# Shutdown Hazelcast client\n",
    "client.shutdown()"
   ]
  }
 ],
 "metadata": {
  "colab": {
   "provenance": []
  },
  "kernelspec": {
   "display_name": "Python 3 (ipykernel)",
   "language": "python",
   "name": "python3"
  },
  "language_info": {
   "codemirror_mode": {
    "name": "ipython",
    "version": 3
   },
   "file_extension": ".py",
   "mimetype": "text/x-python",
   "name": "python",
   "nbconvert_exporter": "python",
   "pygments_lexer": "ipython3",
   "version": "3.10.12"
  }
 },
 "nbformat": 4,
 "nbformat_minor": 5
}
